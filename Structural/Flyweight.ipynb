{
 "cells": [
  {
   "cell_type": "markdown",
   "metadata": {},
   "source": [
    "### Problem"
   ]
  },
  {
   "cell_type": "code",
   "execution_count": 46,
   "metadata": {},
   "outputs": [],
   "source": [
    "public class Point {\n",
    "    private int x;\n",
    "    private int y;\n",
    "    private PointType type;\n",
    "    private byte[] icon;\n",
    "    \n",
    "    public Point(int x, int y, PointType type, byte[] icon) {\n",
    "        this.x = x;\n",
    "        this.y = y;\n",
    "        this.type = type;\n",
    "        this.icon = icon;\n",
    "    }\n",
    "    \n",
    "    public void Draw() {\n",
    "        Console.WriteLine($\"{type} at ({x}, {y})\");\n",
    "        Console.WriteLine($\"Point HashCode: {this.GetHashCode()}\\n\");\n",
    "    }\n",
    "}\n",
    "\n",
    "public enum PointType {\n",
    "    HOSPITAL,\n",
    "    CAFE,\n",
    "    RESTAURANT\n",
    "}\n",
    "\n",
    "public class PointService {\n",
    "    public List<Point> GetPoints() {\n",
    "        var points = new List<Point>();\n",
    "        points.Add(new Point(1, 2, PointType.HOSPITAL, null));\n",
    "        points.Add(new Point(1, 3, PointType.CAFE, null));\n",
    "        points.Add(new Point(1, 4, PointType.RESTAURANT, null));\n",
    "        return points;\n",
    "    }\n",
    "}"
   ]
  },
  {
   "cell_type": "code",
   "execution_count": 47,
   "metadata": {},
   "outputs": [
    {
     "name": "stdout",
     "output_type": "stream",
     "text": [
      "HOSPITAL at (1, 2)\n",
      "Point HashCode: 7770655\n",
      "\n",
      "CAFE at (1, 3)\n",
      "Point HashCode: 38912477\n",
      "\n",
      "RESTAURANT at (1, 4)\n",
      "Point HashCode: 16027297\n",
      "\n"
     ]
    }
   ],
   "source": [
    "var service = new PointService();\n",
    "\n",
    "foreach (var point in service.GetPoints()) {\n",
    "    point.Draw();\n",
    "}"
   ]
  },
  {
   "cell_type": "markdown",
   "metadata": {},
   "source": [
    "### Solution"
   ]
  },
  {
   "cell_type": "code",
   "execution_count": 48,
   "metadata": {},
   "outputs": [],
   "source": [
    "public class Point {\n",
    "    private int x;\n",
    "    private int y;\n",
    "    private PointIcon pointIcon;\n",
    "    \n",
    "    public Point(int x, int y, PointIcon pointIcon) {\n",
    "        this.x = x;\n",
    "        this.y = y;\n",
    "        this.pointIcon = pointIcon;\n",
    "    }\n",
    "    \n",
    "    public void Draw() {\n",
    "        Console.WriteLine($\"{pointIcon.Type} at ({x}, {y})\");\n",
    "        Console.WriteLine($\"Point HashCode: {this.GetHashCode()}\");\n",
    "        Console.WriteLine($\"PointIcon HashCode: {pointIcon.GetHashCode()}\\n\");\n",
    "    }\n",
    "}\n",
    "\n",
    "public class PointIcon {\n",
    "    public readonly PointType Type;\n",
    "    public readonly byte[] Icon;\n",
    "    \n",
    "    public PointIcon(PointType type, byte[] icon) {\n",
    "        Type = type;\n",
    "        Icon = icon;\n",
    "    }\n",
    "}\n",
    "\n",
    "public class PointIconFactory {\n",
    "    private Dictionary<PointType, PointIcon> pointIcons;\n",
    "    \n",
    "    public PointIconFactory() {\n",
    "        pointIcons = new Dictionary<PointType, PointIcon>(); \n",
    "    }\n",
    "    \n",
    "    public PointIcon GetPointIcon(PointType type) {\n",
    "        PointIcon pointIcon;\n",
    "        pointIcons.TryGetValue(type, out pointIcon);\n",
    "        \n",
    "        if (pointIcon == null) {\n",
    "            pointIcon = new PointIcon(type, null);\n",
    "            pointIcons.Add(type, pointIcon);\n",
    "        }\n",
    "        \n",
    "        return pointIcon;\n",
    "    }\n",
    "}\n",
    "\n",
    "public enum PointType {\n",
    "    HOSPITAL,\n",
    "    CAFE,\n",
    "    RESTAURANT\n",
    "}\n",
    "\n",
    "public class PointService {\n",
    "    public List<Point> GetPoints() {\n",
    "        var factory = new PointIconFactory();\n",
    "        var points = new List<Point>();\n",
    "        \n",
    "        points.Add(new Point(1, 2, factory.GetPointIcon(PointType.HOSPITAL)));\n",
    "        points.Add(new Point(1, 3, factory.GetPointIcon(PointType.CAFE)));\n",
    "        points.Add(new Point(1, 4, factory.GetPointIcon(PointType.RESTAURANT)));\n",
    "        points.Add(new Point(2, 3, factory.GetPointIcon(PointType.CAFE)));\n",
    "        points.Add(new Point(2, 5, factory.GetPointIcon(PointType.CAFE)));\n",
    "        \n",
    "        return points;\n",
    "    }\n",
    "}"
   ]
  },
  {
   "cell_type": "code",
   "execution_count": 49,
   "metadata": {},
   "outputs": [
    {
     "name": "stdout",
     "output_type": "stream",
     "text": [
      "HOSPITAL at (1, 2)\n",
      "Point HashCode: 33042694\n",
      "PointIcon HashCode: 54237603\n",
      "\n",
      "CAFE at (1, 3)\n",
      "Point HashCode: 19847894\n",
      "PointIcon HashCode: 26985007\n",
      "\n",
      "RESTAURANT at (1, 4)\n",
      "Point HashCode: 63357757\n",
      "PointIcon HashCode: 18036624\n",
      "\n",
      "CAFE at (2, 3)\n",
      "Point HashCode: 58695353\n",
      "PointIcon HashCode: 26985007\n",
      "\n",
      "CAFE at (2, 5)\n",
      "Point HashCode: 49929800\n",
      "PointIcon HashCode: 26985007\n",
      "\n"
     ]
    }
   ],
   "source": [
    "var service = new PointService();\n",
    "\n",
    "foreach (var point in service.GetPoints()) {\n",
    "    point.Draw();\n",
    "}"
   ]
  },
  {
   "cell_type": "code",
   "execution_count": null,
   "metadata": {},
   "outputs": [],
   "source": []
  }
 ],
 "metadata": {
  "kernelspec": {
   "display_name": ".NET (C#)",
   "language": "C#",
   "name": ".net-csharp"
  },
  "language_info": {
   "file_extension": ".cs",
   "mimetype": "text/x-csharp",
   "name": "C#",
   "pygments_lexer": "csharp",
   "version": "8.0"
  }
 },
 "nbformat": 4,
 "nbformat_minor": 4
}
