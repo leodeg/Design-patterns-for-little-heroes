{
 "cells": [
  {
   "cell_type": "markdown",
   "metadata": {},
   "source": [
    "### Problem"
   ]
  },
  {
   "cell_type": "code",
   "execution_count": 16,
   "metadata": {},
   "outputs": [],
   "source": [
    "public class Ebook {\n",
    "    private string fileName;\n",
    "    \n",
    "    public Ebook (string fileName) {\n",
    "        this.fileName = fileName;\n",
    "        Load();\n",
    "    }\n",
    "    \n",
    "    private void Load () {\n",
    "        Console.WriteLine($\"Load:: {fileName}\");\n",
    "    }\n",
    "    \n",
    "    public void Show () {\n",
    "        Console.WriteLine($\"Show:: {fileName}\");\n",
    "    }\n",
    "    \n",
    "    public string GetFileName () {\n",
    "        return fileName;\n",
    "    }\n",
    "}\n",
    "\n",
    "public class Library {\n",
    "    private Dictionary<string, Ebook> books;\n",
    "    \n",
    "    public Library () {\n",
    "        books = new Dictionary<string, Ebook>();\n",
    "    }\n",
    "    \n",
    "    public void Add (Ebook book) {\n",
    "        books.Add(book.GetFileName(), book);\n",
    "    }\n",
    "    \n",
    "    public bool OpenBook (string fileName) {\n",
    "        Ebook book;\n",
    "        if (books.TryGetValue(fileName, out book)) {\n",
    "            book.Show();\n",
    "            return true;\n",
    "        }\n",
    "        return false;\n",
    "    }\n",
    "}"
   ]
  },
  {
   "cell_type": "code",
   "execution_count": 17,
   "metadata": {},
   "outputs": [
    {
     "name": "stdout",
     "output_type": "stream",
     "text": [
      "Load:: a\n",
      "Load:: b\n",
      "Load:: c\n",
      "Show:: a\n"
     ]
    }
   ],
   "source": [
    "var library = new Library();\n",
    "\n",
    "library.Add(new Ebook(\"a\"));\n",
    "library.Add(new Ebook(\"b\"));\n",
    "library.Add(new Ebook(\"c\"));\n",
    "\n",
    "library.OpenBook(\"a\");"
   ]
  },
  {
   "cell_type": "markdown",
   "metadata": {},
   "source": [
    "### Solution"
   ]
  },
  {
   "cell_type": "code",
   "execution_count": 18,
   "metadata": {},
   "outputs": [],
   "source": [
    "public interface Ebook {\n",
    "    void Show();\n",
    "    string GetFileName();\n",
    "}\n",
    "\n",
    "public class RealEbook : Ebook {\n",
    "    private string fileName;\n",
    "    \n",
    "    public RealEbook (string fileName) {\n",
    "        this.fileName = fileName;\n",
    "        Load();\n",
    "    }\n",
    "    \n",
    "    private void Load () {\n",
    "        Console.WriteLine($\"Load:: {fileName}\");\n",
    "    }\n",
    "    \n",
    "    public void Show () {\n",
    "        Console.WriteLine($\"Show:: {fileName}\");\n",
    "    }\n",
    "    \n",
    "    public string GetFileName () {\n",
    "        return fileName;\n",
    "    }\n",
    "}\n",
    "\n",
    "public class ProxyEbook : Ebook {\n",
    "    private string fileName;\n",
    "    private RealEbook book;\n",
    "    \n",
    "    public ProxyEbook (string fileName) {\n",
    "        this.fileName = fileName;\n",
    "    }\n",
    "    \n",
    "    public void Show () {\n",
    "        if (book == null)\n",
    "            book = new RealEbook(fileName);\n",
    "        \n",
    "        book.Show();\n",
    "    }\n",
    "    \n",
    "    public string GetFileName () {\n",
    "        return fileName;\n",
    "    }\n",
    "}\n",
    "\n",
    "public class Library {\n",
    "    private Dictionary<string, Ebook> books;\n",
    "    \n",
    "    public Library () {\n",
    "        books = new Dictionary<string, Ebook>();\n",
    "    }\n",
    "    \n",
    "    public void Add (Ebook book) {\n",
    "        books.Add(book.GetFileName(), book);\n",
    "    }\n",
    "    \n",
    "    public bool OpenBook (string fileName) {\n",
    "        Ebook book;\n",
    "        if (books.TryGetValue(fileName, out book)) {\n",
    "            book.Show();\n",
    "            return true;\n",
    "        }\n",
    "        return false;\n",
    "    }\n",
    "}"
   ]
  },
  {
   "cell_type": "code",
   "execution_count": 20,
   "metadata": {},
   "outputs": [
    {
     "name": "stdout",
     "output_type": "stream",
     "text": [
      "Load:: a\n",
      "Show:: a\n",
      "Load:: c\n",
      "Show:: c\n"
     ]
    }
   ],
   "source": [
    "var library = new Library();\n",
    "\n",
    "library.Add(new ProxyEbook(\"a\"));\n",
    "library.Add(new ProxyEbook(\"b\"));\n",
    "library.Add(new ProxyEbook(\"c\"));\n",
    "\n",
    "library.OpenBook(\"a\");\n",
    "library.OpenBook(\"c\");"
   ]
  },
  {
   "cell_type": "code",
   "execution_count": null,
   "metadata": {},
   "outputs": [],
   "source": []
  }
 ],
 "metadata": {
  "kernelspec": {
   "display_name": ".NET (C#)",
   "language": "C#",
   "name": ".net-csharp"
  },
  "language_info": {
   "file_extension": ".cs",
   "mimetype": "text/x-csharp",
   "name": "C#",
   "pygments_lexer": "csharp",
   "version": "8.0"
  }
 },
 "nbformat": 4,
 "nbformat_minor": 4
}
