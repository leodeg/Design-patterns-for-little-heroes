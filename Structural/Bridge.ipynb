{
 "cells": [
  {
   "cell_type": "code",
   "execution_count": 21,
   "metadata": {},
   "outputs": [],
   "source": [
    "public class RemoteControl {\n",
    "    protected Device device;\n",
    "    \n",
    "    public RemoteControl(Device device) {\n",
    "        this.device = device;\n",
    "    }\n",
    "    \n",
    "    public void TurnOn() {\n",
    "        device.TurnOn();\n",
    "    }\n",
    "    \n",
    "    public void TurnOff() {\n",
    "        device.TurnOff();\n",
    "    }\n",
    "}\n",
    "\n",
    "public class AdvancedRemoteControl : RemoteControl {\n",
    "    \n",
    "    public AdvancedRemoteControl(Device device) : base(device) {}\n",
    "    \n",
    "    public void SetChannel(int number) {\n",
    "        device.SetChannel(number);\n",
    "    }\n",
    "}\n",
    "\n",
    "public interface Device {\n",
    "    void TurnOn();\n",
    "    void TurnOff();\n",
    "    void SetChannel(int number);\n",
    "}\n",
    "\n",
    "public class SonyTV : Device {\n",
    "    public void TurnOn() {\n",
    "        Console.WriteLine(\"Sony:: turn on!\");\n",
    "    }\n",
    "    \n",
    "    public void TurnOff() {\n",
    "        Console.WriteLine(\"Sony:: turn off!\");\n",
    "    }\n",
    "    \n",
    "    public void SetChannel(int number) {\n",
    "        Console.WriteLine($\"Sony:: set channel to [{number}]\");\n",
    "    }\n",
    "}\n",
    "\n",
    "public class LgTV : Device {\n",
    "    public void TurnOn() {\n",
    "        Console.WriteLine(\"LG:: turn on!\");\n",
    "    }\n",
    "    \n",
    "    public void TurnOff() {\n",
    "        Console.WriteLine(\"LG:: turn off!\");\n",
    "    }\n",
    "    \n",
    "    public void SetChannel(int number) {\n",
    "        Console.WriteLine($\"LG:: set channel to [{number}]\");\n",
    "    }\n",
    "}"
   ]
  },
  {
   "cell_type": "code",
   "execution_count": 23,
   "metadata": {},
   "outputs": [
    {
     "name": "stdout",
     "output_type": "stream",
     "text": [
      "Sony:: turn on!\n",
      "Sony:: turn off!\n",
      "Sony:: set channel to [10]\n",
      "LG:: turn on!\n",
      "LG:: turn off!\n",
      "LG:: set channel to [5]\n"
     ]
    }
   ],
   "source": [
    "var sonyTV = new SonyTV();\n",
    "var remoteControl = new RemoteControl(sonyTV);\n",
    "var advancedRemoteControl = new AdvancedRemoteControl(sonyTV);\n",
    "\n",
    "remoteControl.TurnOn();\n",
    "remoteControl.TurnOff();\n",
    "advancedRemoteControl.SetChannel(10);\n",
    "\n",
    "var lgTv = new LgTV();\n",
    "remoteControl = new RemoteControl(lgTv);\n",
    "advancedRemoteControl = new AdvancedRemoteControl(lgTv);\n",
    "\n",
    "remoteControl.TurnOn();\n",
    "remoteControl.TurnOff();\n",
    "advancedRemoteControl.SetChannel(5);"
   ]
  },
  {
   "cell_type": "code",
   "execution_count": null,
   "metadata": {},
   "outputs": [],
   "source": []
  },
  {
   "cell_type": "code",
   "execution_count": null,
   "metadata": {},
   "outputs": [],
   "source": []
  }
 ],
 "metadata": {
  "kernelspec": {
   "display_name": ".NET (C#)",
   "language": "C#",
   "name": ".net-csharp"
  },
  "language_info": {
   "file_extension": ".cs",
   "mimetype": "text/x-csharp",
   "name": "C#",
   "pygments_lexer": "csharp",
   "version": "8.0"
  }
 },
 "nbformat": 4,
 "nbformat_minor": 4
}
