{
 "cells": [
  {
   "cell_type": "markdown",
   "metadata": {},
   "source": [
    "### Problem"
   ]
  },
  {
   "cell_type": "code",
   "execution_count": 32,
   "metadata": {},
   "outputs": [],
   "source": [
    "public class Shape {\n",
    "    public void Render(){\n",
    "        Console.WriteLine(\"Shape Rendering...\");\n",
    "    }\n",
    "}\n",
    "\n",
    "public class Group {\n",
    "    private List<Shape> shapes;\n",
    "    \n",
    "    public Group() {\n",
    "        shapes = new List<Shape>();\n",
    "    }\n",
    "    \n",
    "    public void Add(Shape shape) {\n",
    "        shapes.Add(shape);\n",
    "    }\n",
    "    \n",
    "    public void Render() {\n",
    "        Console.WriteLine(\"-------------------\");\n",
    "        foreach (var shape in shapes) {\n",
    "            shape.Render();\n",
    "        }\n",
    "    }\n",
    "}"
   ]
  },
  {
   "cell_type": "code",
   "execution_count": 33,
   "metadata": {},
   "outputs": [
    {
     "name": "stdout",
     "output_type": "stream",
     "text": [
      "-------------------\n",
      "Shape Rendering...\n",
      "Shape Rendering...\n",
      "-------------------\n",
      "Shape Rendering...\n",
      "Shape Rendering...\n"
     ]
    }
   ],
   "source": [
    "var group = new Group();\n",
    "group.Add(new Shape());\n",
    "group.Add(new Shape());\n",
    "group.Render();\n",
    "\n",
    "var group2 = new Group();\n",
    "group2.Add(new Shape());\n",
    "group2.Add(new Shape());\n",
    "group.Render();\n",
    "\n",
    "// group.Add(group2); // Error"
   ]
  },
  {
   "cell_type": "markdown",
   "metadata": {},
   "source": [
    "### Solution"
   ]
  },
  {
   "cell_type": "code",
   "execution_count": 34,
   "metadata": {},
   "outputs": [],
   "source": [
    "public interface Component {\n",
    "    void Execute();\n",
    "}\n",
    "\n",
    "public class Shape : Component {\n",
    "    public void Execute(){\n",
    "        Console.WriteLine(\"Shape Rendering...\");\n",
    "    }\n",
    "}\n",
    "\n",
    "public class Group : Component {\n",
    "    private List<Component> components;\n",
    "    \n",
    "    public Group() {\n",
    "        components = new List<Component>();\n",
    "    }\n",
    "    \n",
    "    public void Add(Component component) {\n",
    "        components.Add(component);\n",
    "    }\n",
    "    \n",
    "    public void Execute() {\n",
    "        Console.WriteLine(\"-------------------\");\n",
    "        foreach (var component in components) {\n",
    "            component.Execute();\n",
    "        }\n",
    "    }\n",
    "}"
   ]
  },
  {
   "cell_type": "code",
   "execution_count": 35,
   "metadata": {},
   "outputs": [
    {
     "name": "stdout",
     "output_type": "stream",
     "text": [
      "Group 1 Rendering...\n",
      "-------------------\n",
      "Shape Rendering...\n",
      "Shape Rendering...\n",
      "\n",
      "Group 2 Rendering...\n",
      "-------------------\n",
      "Shape Rendering...\n",
      "Shape Rendering...\n",
      "\n",
      "Group 1 and 2 Rendering...\n",
      "-------------------\n",
      "Shape Rendering...\n",
      "Shape Rendering...\n",
      "-------------------\n",
      "Shape Rendering...\n",
      "Shape Rendering...\n"
     ]
    }
   ],
   "source": [
    "var group = new Group();\n",
    "group.Add(new Shape());\n",
    "group.Add(new Shape());\n",
    "Console.WriteLine(\"Group 1 Rendering...\");\n",
    "group.Execute();\n",
    "\n",
    "var group2 = new Group();\n",
    "group2.Add(new Shape());\n",
    "group2.Add(new Shape());\n",
    "Console.WriteLine(\"\\nGroup 2 Rendering...\");\n",
    "group.Execute();\n",
    "\n",
    "group.Add(group2);\n",
    "\n",
    "Console.WriteLine(\"\\nGroup 1 and 2 Rendering...\");\n",
    "group.Execute();"
   ]
  },
  {
   "cell_type": "code",
   "execution_count": null,
   "metadata": {},
   "outputs": [],
   "source": []
  }
 ],
 "metadata": {
  "kernelspec": {
   "display_name": ".NET (C#)",
   "language": "C#",
   "name": ".net-csharp"
  },
  "language_info": {
   "file_extension": ".cs",
   "mimetype": "text/x-csharp",
   "name": "C#",
   "pygments_lexer": "csharp",
   "version": "8.0"
  }
 },
 "nbformat": 4,
 "nbformat_minor": 4
}
