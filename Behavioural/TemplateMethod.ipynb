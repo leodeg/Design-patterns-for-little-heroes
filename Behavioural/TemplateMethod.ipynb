{
 "cells": [
  {
   "cell_type": "code",
   "execution_count": 5,
   "metadata": {},
   "outputs": [],
   "source": [
    "public class AuditTrail {\n",
    "    public void Record () {\n",
    "        Console.WriteLine(\"Audit\");\n",
    "    }\n",
    "}\n",
    "\n",
    "public abstract class Task {\n",
    "    private AuditTrail auditTrail;\n",
    "    \n",
    "    public Task () {\n",
    "        auditTrail = new AuditTrail();\n",
    "    }\n",
    "    \n",
    "    public void Execute () {\n",
    "        auditTrail.Record();\n",
    "        Operation();\n",
    "    }\n",
    "    \n",
    "    public abstract void Operation ();\n",
    "}\n",
    "\n",
    "public class TransferMoneyTask : Task {\n",
    "    public override void Operation () {\n",
    "        Console.WriteLine(\"Transfer Money\");\n",
    "    }\n",
    "}\n",
    "\n",
    "public class GenerateReportTask : Task {\n",
    "    public override void Operation () {\n",
    "        Console.WriteLine(\"Generate Report\");\n",
    "    }\n",
    "}"
   ]
  },
  {
   "cell_type": "code",
   "execution_count": 7,
   "metadata": {},
   "outputs": [
    {
     "name": "stdout",
     "output_type": "stream",
     "text": [
      "Audit\n",
      "Transfer Money\n"
     ]
    }
   ],
   "source": [
    "TransferMoneyTask transferMoney = new TransferMoneyTask();\n",
    "transferMoney.Execute();"
   ]
  },
  {
   "cell_type": "code",
   "execution_count": null,
   "metadata": {},
   "outputs": [],
   "source": []
  }
 ],
 "metadata": {
  "kernelspec": {
   "display_name": ".NET (C#)",
   "language": "C#",
   "name": ".net-csharp"
  },
  "language_info": {
   "file_extension": ".cs",
   "mimetype": "text/x-csharp",
   "name": "C#",
   "pygments_lexer": "csharp",
   "version": "8.0"
  }
 },
 "nbformat": 4,
 "nbformat_minor": 4
}
