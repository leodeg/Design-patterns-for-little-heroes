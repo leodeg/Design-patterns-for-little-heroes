{
 "cells": [
  {
   "cell_type": "code",
   "execution_count": 42,
   "metadata": {},
   "outputs": [],
   "source": [
    "public interface IOriginator<T> {\n",
    "    T CreateState();\n",
    "    void RestoreState(T state);\n",
    "}\n",
    "\n",
    "public class Editor : IOriginator<EditorState> {\n",
    "    public string Content { get; set; }\n",
    "    \n",
    "    public EditorState CreateState () {\n",
    "        return new EditorState(Content);\n",
    "    }\n",
    "\n",
    "    public void RestoreState (EditorState state) {\n",
    "        Content = state.Content;\n",
    "    }\n",
    "}\n",
    "\n",
    "public class EditorState {\n",
    "    public string Content{ get; private set; }\n",
    "\n",
    "    public EditorState (string content) {\n",
    "        Content = content;\n",
    "    }\n",
    "}"
   ]
  },
  {
   "cell_type": "code",
   "execution_count": 43,
   "metadata": {},
   "outputs": [],
   "source": [
    "public interface IMemento<T> {\n",
    "    void Save(T origin);\n",
    "    T Undo();\n",
    "}\n",
    "\n",
    "public class History<T> : IMemento<T> {\n",
    "    private Stack<T> states;\n",
    "    \n",
    "    public History () {\n",
    "        states = new Stack<T>();\n",
    "    }\n",
    "\n",
    "    public void Save (T origin) {\n",
    "        states.Push(origin);\n",
    "    }\n",
    "    \n",
    "    public T Undo () {\n",
    "        return states.Pop();\n",
    "    }\n",
    "}"
   ]
  },
  {
   "cell_type": "code",
   "execution_count": 45,
   "metadata": {},
   "outputs": [
    {
     "name": "stdout",
     "output_type": "stream",
     "text": [
      "c\n",
      "b\n",
      "a\n"
     ]
    }
   ],
   "source": [
    "Editor editor = new Editor();\n",
    "History<EditorState> history = new History<EditorState>();\n",
    "\n",
    "editor.Content = \"a\";\n",
    "history.Save(editor.CreateState());\n",
    "\n",
    "editor.Content = \"b\";\n",
    "history.Save(editor.CreateState());\n",
    "\n",
    "editor.Content = \"c\";\n",
    "Console.WriteLine(editor.Content); // c\n",
    "\n",
    "editor.RestoreState(history.Undo());\n",
    "Console.WriteLine(editor.Content); // b\n",
    "\n",
    "editor.RestoreState(history.Undo());\n",
    "Console.WriteLine(editor.Content); // a"
   ]
  },
  {
   "cell_type": "code",
   "execution_count": null,
   "metadata": {},
   "outputs": [],
   "source": []
  }
 ],
 "metadata": {
  "kernelspec": {
   "display_name": ".NET (C#)",
   "language": "C#",
   "name": ".net-csharp"
  },
  "language_info": {
   "file_extension": ".cs",
   "mimetype": "text/x-csharp",
   "name": "C#",
   "pygments_lexer": "csharp",
   "version": "8.0"
  }
 },
 "nbformat": 4,
 "nbformat_minor": 4
}
