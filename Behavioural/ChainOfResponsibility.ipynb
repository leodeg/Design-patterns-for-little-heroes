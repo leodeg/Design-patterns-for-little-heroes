{
 "cells": [
  {
   "cell_type": "markdown",
   "metadata": {},
   "source": [
    "### Problem"
   ]
  },
  {
   "cell_type": "code",
   "execution_count": 41,
   "metadata": {},
   "outputs": [],
   "source": [
    "public class HttpRequest {\n",
    "    public string UserName { get; set; }\n",
    "    public string Password { get; set; }\n",
    "}\n",
    "\n",
    "public class WebServer {\n",
    "    public void Handle(HttpRequest request) {\n",
    "        var authenticator = new Authenticator ();\n",
    "        authenticator.Authenticate(request);\n",
    "        \n",
    "        var compressor = new Compressor();\n",
    "        compressor.Compress(request);\n",
    "        \n",
    "        var logger = new Logger();\n",
    "        logger.Log(request);\n",
    "    }\n",
    "}\n",
    "\n",
    "public class Authenticator {\n",
    "    public bool Authenticate(HttpRequest request) {\n",
    "        var isValid = (request.UserName == \"Admin\" \n",
    "                       && request.Password == \"Admin\");\n",
    "        \n",
    "        Console.WriteLine(\"Authentication...\");\n",
    "        return isValid;\n",
    "    }\n",
    "}\n",
    "\n",
    "public class Compressor {\n",
    "    public void Compress(HttpRequest request) {\n",
    "        Console.WriteLine(\"Compress...\");\n",
    "    }\n",
    "}\n",
    "\n",
    "public class Logger {\n",
    "    public void Log(HttpRequest request) {\n",
    "        Console.WriteLine(\"Log...\");\n",
    "    }\n",
    "}"
   ]
  },
  {
   "cell_type": "code",
   "execution_count": 42,
   "metadata": {},
   "outputs": [
    {
     "name": "stdout",
     "output_type": "stream",
     "text": [
      "Authentication...\n",
      "Compress...\n",
      "Log...\n"
     ]
    }
   ],
   "source": [
    "var request = new HttpRequest() {\n",
    "    UserName = \"Admin\", \n",
    "    Password = \"Admin\"\n",
    "};\n",
    "\n",
    "var webServer = new WebServer ();\n",
    "webServer.Handle(request);"
   ]
  },
  {
   "cell_type": "markdown",
   "metadata": {},
   "source": [
    "### Solution"
   ]
  },
  {
   "cell_type": "code",
   "execution_count": 43,
   "metadata": {},
   "outputs": [],
   "source": [
    "public class HttpRequest {\n",
    "    public string UserName { get; set; }\n",
    "    public string Password { get; set; }\n",
    "}\n",
    "\n",
    "public class WebServer {\n",
    "    private IHandler<HttpRequest> httpRequestHandler;\n",
    "    \n",
    "    public WebServer(IHandler<HttpRequest> httpRequestHandler) {\n",
    "        this.httpRequestHandler = httpRequestHandler;\n",
    "    }\n",
    "    \n",
    "    public void Handle(HttpRequest request) {\n",
    "        httpRequestHandler.Handle(request);\n",
    "    }\n",
    "}\n",
    "\n",
    "public interface IHandler<T> {\n",
    "    void Handle(T request);\n",
    "}\n",
    "\n",
    "public abstract class Handler<T> : IHandler<T> {\n",
    "    private Handler<T> next;\n",
    "    \n",
    "    public Handler (Handler<T> next) {\n",
    "        this.next = next;\n",
    "    }\n",
    "    \n",
    "    public void Handle (T request) {\n",
    "        if (Process(request))\n",
    "            return;\n",
    "        \n",
    "        if (next != null)\n",
    "            next.Handle(request);\n",
    "    }\n",
    "    \n",
    "    protected abstract bool Process(T request);\n",
    "}\n",
    "\n",
    "public class Authenticator : Handler<HttpRequest> {\n",
    "    \n",
    "    public Authenticator(Handler<HttpRequest> requestHandler) : base(requestHandler) {}\n",
    "    \n",
    "    protected override bool Process(HttpRequest request) {\n",
    "        var isValid = (request.UserName == \"Admin\" \n",
    "                       && request.Password == \"Admin\");\n",
    "        \n",
    "        Console.WriteLine(\"Authentication...\");\n",
    "        return !isValid;\n",
    "    }\n",
    "}\n",
    "\n",
    "public class Compressor : Handler<HttpRequest> {\n",
    "    \n",
    "    public Compressor(Handler<HttpRequest> requestHandler) : base(requestHandler) {}\n",
    "    \n",
    "    protected override bool Process(HttpRequest request) {\n",
    "        Console.WriteLine(\"Compress...\");\n",
    "        return false;\n",
    "    }\n",
    "}\n",
    "\n",
    "public class Logger : Handler<HttpRequest> {\n",
    "    \n",
    "    public Logger(Handler<HttpRequest> requestHandler) : base(requestHandler) {}\n",
    "    \n",
    "    protected override bool Process(HttpRequest request) {\n",
    "        Console.WriteLine(\"Log...\");\n",
    "        return false;\n",
    "    }\n",
    "}"
   ]
  },
  {
   "cell_type": "code",
   "execution_count": 44,
   "metadata": {},
   "outputs": [
    {
     "name": "stdout",
     "output_type": "stream",
     "text": [
      "-- Admin --\n",
      "Authentication...\n",
      "Log...\n",
      "Compress...\n",
      "\n",
      "-- User --\n",
      "Authentication...\n"
     ]
    }
   ],
   "source": [
    "var requestAdmin = new HttpRequest () {\n",
    "    UserName = \"Admin\",\n",
    "    Password = \"Admin\"\n",
    "};\n",
    "\n",
    "var requestUser = new HttpRequest () {\n",
    "    UserName = \"User\",\n",
    "    Password = \"User\"\n",
    "};\n",
    "\n",
    "var webServer = new WebServer (\n",
    "    new Authenticator(\n",
    "        new Logger(\n",
    "            new Compressor(null)\n",
    "        )\n",
    "    )\n",
    ");\n",
    "    \n",
    "Console.WriteLine(\"-- Admin --\");\n",
    "webServer.Handle(requestAdmin);\n",
    "\n",
    "Console.WriteLine(\"\\n-- User --\");\n",
    "webServer.Handle(requestUser);"
   ]
  },
  {
   "cell_type": "code",
   "execution_count": null,
   "metadata": {},
   "outputs": [],
   "source": []
  }
 ],
 "metadata": {
  "kernelspec": {
   "display_name": ".NET (C#)",
   "language": "C#",
   "name": ".net-csharp"
  },
  "language_info": {
   "file_extension": ".cs",
   "mimetype": "text/x-csharp",
   "name": "C#",
   "pygments_lexer": "csharp",
   "version": "8.0"
  }
 },
 "nbformat": 4,
 "nbformat_minor": 4
}
