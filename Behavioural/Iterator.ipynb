{
 "cells": [
  {
   "cell_type": "code",
   "execution_count": 14,
   "metadata": {},
   "outputs": [],
   "source": [
    "public interface Iterator<T> {\n",
    "    T CurrentElement { get; }\n",
    "    void Next();\n",
    "    bool HasNext();\n",
    "}\n",
    "\n",
    "public interface IterableCollection<T> {\n",
    "    Iterator<T> CreateIterator();\n",
    "}\n",
    "\n",
    "public class BrowseHistory : IterableCollection<string> {\n",
    "    private List<string> urls;\n",
    "    \n",
    "    public BrowseHistory() {\n",
    "        urls = new List<string>();\n",
    "    }\n",
    "    \n",
    "    public void Push(string url) {\n",
    "        urls.Add(url);\n",
    "    }\n",
    "    \n",
    "    public string Pop() {\n",
    "        string lastUrl = urls.Last();\n",
    "        urls.Remove(lastUrl);\n",
    "        return lastUrl;\n",
    "    }   \n",
    "    \n",
    "    public void Print() {\n",
    "        foreach (var url in urls) {\n",
    "            Console.WriteLine(url);\n",
    "        }\n",
    "    }\n",
    "    \n",
    "    public Iterator<string> CreateIterator() {\n",
    "        return new ListIterator(this);\n",
    "    }\n",
    "    \n",
    "    public class ListIterator : Iterator<string> {\n",
    "        private BrowseHistory browseHistory;\n",
    "        private int index;\n",
    "        \n",
    "        public ListIterator (BrowseHistory browseHistory) {\n",
    "            this.browseHistory = browseHistory;\n",
    "        }\n",
    "        \n",
    "        public string CurrentElement { get { return browseHistory.urls[index]; } }\n",
    "        \n",
    "        public void Next() {\n",
    "            ++index;\n",
    "        }\n",
    "        \n",
    "        public bool HasNext() {\n",
    "            return index < browseHistory.urls.Count;\n",
    "        }\n",
    "    }\n",
    "}\n"
   ]
  },
  {
   "cell_type": "code",
   "execution_count": 19,
   "metadata": {},
   "outputs": [
    {
     "name": "stdout",
     "output_type": "stream",
     "text": [
      "one\n",
      "two\n",
      "three\n"
     ]
    }
   ],
   "source": [
    "var history = new BrowseHistory();\n",
    "history.Push(\"one\");\n",
    "history.Push(\"two\");\n",
    "history.Push(\"three\");\n",
    "history.Print();"
   ]
  },
  {
   "cell_type": "code",
   "execution_count": 20,
   "metadata": {},
   "outputs": [
    {
     "name": "stdout",
     "output_type": "stream",
     "text": [
      "one\n",
      "two\n",
      "three\n"
     ]
    }
   ],
   "source": [
    "var history = new BrowseHistory();\n",
    "history.Push(\"one\");\n",
    "history.Push(\"two\");\n",
    "history.Push(\"three\");\n",
    "\n",
    "Iterator<string> iterator = history.CreateIterator();\n",
    "while (iterator.HasNext()) {\n",
    "    Console.WriteLine(iterator.CurrentElement);\n",
    "    iterator.Next();\n",
    "}"
   ]
  },
  {
   "cell_type": "code",
   "execution_count": null,
   "metadata": {},
   "outputs": [],
   "source": []
  }
 ],
 "metadata": {
  "kernelspec": {
   "display_name": ".NET (C#)",
   "language": "C#",
   "name": ".net-csharp"
  },
  "language_info": {
   "file_extension": ".cs",
   "mimetype": "text/x-csharp",
   "name": "C#",
   "pygments_lexer": "csharp",
   "version": "8.0"
  }
 },
 "nbformat": 4,
 "nbformat_minor": 4
}
