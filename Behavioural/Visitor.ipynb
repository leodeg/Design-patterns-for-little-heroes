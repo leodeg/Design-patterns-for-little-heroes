{
 "cells": [
  {
   "cell_type": "markdown",
   "metadata": {},
   "source": [
    "### Problem"
   ]
  },
  {
   "cell_type": "code",
   "execution_count": 18,
   "metadata": {},
   "outputs": [],
   "source": [
    "public interface HtmlNode {\n",
    "    void Highlight();\n",
    "}\n",
    "\n",
    "public class HeadingNode : HtmlNode {\n",
    "    public void Highlight() {\n",
    "         Console.WriteLine(\"highlight-heading\");\n",
    "    }\n",
    "}\n",
    "\n",
    "public class AnchorNode : HtmlNode {\n",
    "    public void Highlight() {\n",
    "         Console.WriteLine(\"highlight-anchor\");\n",
    "    }\n",
    "}\n",
    "\n",
    "\n",
    "public class HtmlDocument {\n",
    "    private List<HtmlNode> nodes;\n",
    "    \n",
    "    public HtmlDocument() {\n",
    "        nodes = new List<HtmlNode>();\n",
    "    }\n",
    "    \n",
    "    public void Add(HtmlNode node) {\n",
    "        nodes.Add(node);\n",
    "    }\n",
    "    \n",
    "    public void Highlight() {\n",
    "        foreach(var node in nodes) {\n",
    "            node.Highlight();\n",
    "        }\n",
    "    }\n",
    "}"
   ]
  },
  {
   "cell_type": "code",
   "execution_count": 19,
   "metadata": {},
   "outputs": [
    {
     "name": "stdout",
     "output_type": "stream",
     "text": [
      "highlight-heading\n",
      "highlight-anchor\n"
     ]
    }
   ],
   "source": [
    "var document = new HtmlDocument();\n",
    "document.Add(new HeadingNode());\n",
    "document.Add(new AnchorNode());\n",
    "\n",
    "document.Highlight();"
   ]
  },
  {
   "cell_type": "markdown",
   "metadata": {},
   "source": [
    "### Solution"
   ]
  },
  {
   "cell_type": "code",
   "execution_count": 20,
   "metadata": {},
   "outputs": [],
   "source": [
    "public interface HtmlNode {\n",
    "    void Execute(Operation operation);\n",
    "}\n",
    "\n",
    "public class HeadingNode : HtmlNode {\n",
    "    public void Execute(Operation operation) {\n",
    "        operation.Apply(this);\n",
    "    }\n",
    "}\n",
    "\n",
    "public class AnchorNode : HtmlNode {\n",
    "    public void Execute(Operation operation) {\n",
    "        operation.Apply(this);\n",
    "    }\n",
    "}\n",
    "\n",
    "\n",
    "public interface Operation {\n",
    "    void Apply(HeadingNode node);\n",
    "    void Apply(AnchorNode node);\n",
    "}\n",
    "\n",
    "public class HtmlNodeHighlightOperation : Operation {\n",
    "    public void Apply(HeadingNode node) {\n",
    "        Console.WriteLine(\"highlight-anchor\");\n",
    "    }\n",
    "    \n",
    "    public void Apply(AnchorNode node) {\n",
    "        Console.WriteLine(\"highlight-heading\");\n",
    "    }\n",
    "}\n",
    "\n",
    "public class HtmlNodeBoldOperation : Operation {\n",
    "    public void Apply(HeadingNode node) {\n",
    "        Console.WriteLine(\"bold-anchor\");\n",
    "    }\n",
    "    \n",
    "    public void Apply(AnchorNode node) {\n",
    "        Console.WriteLine(\"bold-heading\");\n",
    "    }\n",
    "}\n",
    "\n",
    "\n",
    "public class HtmlDocument {\n",
    "    private List<HtmlNode> nodes;\n",
    "    \n",
    "    public HtmlDocument() {\n",
    "        nodes = new List<HtmlNode>();\n",
    "    }\n",
    "    \n",
    "    public void Add(HtmlNode node) {\n",
    "        nodes.Add(node);\n",
    "    }\n",
    "    \n",
    "    public void Execute(Operation operation) {\n",
    "        foreach(var node in nodes) {\n",
    "            node.Execute(operation);\n",
    "        }\n",
    "    }\n",
    "}"
   ]
  },
  {
   "cell_type": "code",
   "execution_count": 21,
   "metadata": {},
   "outputs": [
    {
     "name": "stdout",
     "output_type": "stream",
     "text": [
      "highlight-anchor\n",
      "highlight-heading\n",
      "bold-anchor\n",
      "bold-heading\n"
     ]
    }
   ],
   "source": [
    "var document = new HtmlDocument();\n",
    "document.Add(new HeadingNode());\n",
    "document.Add(new AnchorNode());\n",
    "\n",
    "document.Execute(new HtmlNodeHighlightOperation());\n",
    "document.Execute(new HtmlNodeBoldOperation());"
   ]
  },
  {
   "cell_type": "code",
   "execution_count": null,
   "metadata": {},
   "outputs": [],
   "source": []
  }
 ],
 "metadata": {
  "kernelspec": {
   "display_name": ".NET (C#)",
   "language": "C#",
   "name": ".net-csharp"
  },
  "language_info": {
   "file_extension": ".cs",
   "mimetype": "text/x-csharp",
   "name": "C#",
   "pygments_lexer": "csharp",
   "version": "8.0"
  }
 },
 "nbformat": 4,
 "nbformat_minor": 4
}
