{
 "cells": [
  {
   "cell_type": "code",
   "execution_count": 12,
   "metadata": {},
   "outputs": [],
   "source": [
    "public class ImageStore {\n",
    "    public void Store(string fileName, Compressor compressor, Filter filter) {\n",
    "        compressor.Compress(fileName);\n",
    "        filter.Apply(fileName);\n",
    "    }\n",
    "}\n",
    "\n",
    "\n",
    "public interface Compressor {\n",
    "    void Compress(string fileName);\n",
    "}\n",
    "\n",
    "public class PngCompressor : Compressor {\n",
    "    public void Compress (string fileName) {\n",
    "        Console.WriteLine($\"PNG compressor: '{fileName}' is compressed.\");\n",
    "    }\n",
    "}\n",
    "\n",
    "public class JpegCompressor : Compressor {\n",
    "    public void Compress (string fileName) {\n",
    "        Console.WriteLine($\"JPEG compressor: '{fileName}' is compressed.\");\n",
    "    }\n",
    "}\n",
    "\n",
    "\n",
    "public interface Filter {\n",
    "    void Apply(string fileName);\n",
    "}\n",
    "\n",
    "public class BlackAndWhiteFilter : Filter {\n",
    "    public void Apply (string fileName) {\n",
    "        Console.WriteLine($\"Black and White filter applied to '{fileName}'.\");\n",
    "    }\n",
    "}\n",
    "\n",
    "public class VintageFilter : Filter {\n",
    "    public void Apply (string fileName) {\n",
    "        Console.WriteLine($\"Vintage filter applied to '{fileName}'.\");\n",
    "    }\n",
    "}"
   ]
  },
  {
   "cell_type": "code",
   "execution_count": 13,
   "metadata": {},
   "outputs": [
    {
     "name": "stdout",
     "output_type": "stream",
     "text": [
      "PNG compressor: 'vintage_image' is compressed.\n",
      "Black and White filter applied to 'vintage_image'.\n"
     ]
    }
   ],
   "source": [
    "ImageStore imageStore = new ImageStore();\n",
    "imageStore.Store(\"vintage_image\", new PngCompressor(), new BlackAndWhiteFilter());"
   ]
  },
  {
   "cell_type": "code",
   "execution_count": null,
   "metadata": {},
   "outputs": [],
   "source": []
  }
 ],
 "metadata": {
  "kernelspec": {
   "display_name": ".NET (C#)",
   "language": "C#",
   "name": ".net-csharp"
  },
  "language_info": {
   "file_extension": ".cs",
   "mimetype": "text/x-csharp",
   "name": "C#",
   "pygments_lexer": "csharp",
   "version": "8.0"
  }
 },
 "nbformat": 4,
 "nbformat_minor": 4
}
