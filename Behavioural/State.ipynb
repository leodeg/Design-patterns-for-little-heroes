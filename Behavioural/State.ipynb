{
 "cells": [
  {
   "cell_type": "code",
   "execution_count": 12,
   "metadata": {},
   "outputs": [],
   "source": [
    "public class Canvas {\n",
    "    public ITool CurrentTool { get; set; }\n",
    "    \n",
    "    public void MouseUp() {\n",
    "        CurrentTool.MouseUp();\n",
    "    }\n",
    "    \n",
    "    public void MouseDown() {\n",
    "        CurrentTool.MouseDown();\n",
    "    }\n",
    "}\n",
    "\n",
    "public interface ITool {\n",
    "    void MouseUp();\n",
    "    void MouseDown();\n",
    "}\n",
    "\n",
    "public class BrushTool : ITool {\n",
    "    public void MouseUp() {\n",
    "        Console.WriteLine(\"Brush: mouse up\");\n",
    "    }\n",
    "    \n",
    "    public void MouseDown() {\n",
    "        Console.WriteLine(\"Brush: mouse down\");\n",
    "    }\n",
    "}\n",
    "\n",
    "public class SelectionTool : ITool {\n",
    "    public void MouseUp() {\n",
    "        Console.WriteLine(\"Selection: mouse up\");\n",
    "    }\n",
    "    \n",
    "    public void MouseDown() {\n",
    "        Console.WriteLine(\"Selection: mouse down\");\n",
    "    }\n",
    "}"
   ]
  },
  {
   "cell_type": "code",
   "execution_count": 13,
   "metadata": {},
   "outputs": [
    {
     "name": "stdout",
     "output_type": "stream",
     "text": [
      "Brush: mouse down\n",
      "Brush: mouse up\n",
      "Selection: mouse down\n",
      "Selection: mouse up\n"
     ]
    }
   ],
   "source": [
    "Canvas canvas = new Canvas();\n",
    "canvas.CurrentTool = new BrushTool();\n",
    "canvas.MouseDown();\n",
    "canvas.MouseUp();\n",
    "\n",
    "canvas.CurrentTool = new SelectionTool();\n",
    "canvas.MouseDown();\n",
    "canvas.MouseUp();"
   ]
  },
  {
   "cell_type": "code",
   "execution_count": null,
   "metadata": {},
   "outputs": [],
   "source": []
  }
 ],
 "metadata": {
  "kernelspec": {
   "display_name": ".NET (C#)",
   "language": "C#",
   "name": ".net-csharp"
  },
  "language_info": {
   "file_extension": ".cs",
   "mimetype": "text/x-csharp",
   "name": "C#",
   "pygments_lexer": "csharp",
   "version": "8.0"
  }
 },
 "nbformat": 4,
 "nbformat_minor": 4
}
