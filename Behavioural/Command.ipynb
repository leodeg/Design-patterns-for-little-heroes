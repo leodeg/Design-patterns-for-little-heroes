{
 "cells": [
  {
   "cell_type": "code",
   "execution_count": 12,
   "metadata": {},
   "outputs": [],
   "source": [
    "public interface ICommand {\n",
    "    void Execute();\n",
    "}\n",
    "\n",
    "public class Button {\n",
    "    public string Label { get; set; }\n",
    "    private ICommand clickCommand;\n",
    "    \n",
    "    public Button (ICommand click) {\n",
    "        this.clickCommand = click;\n",
    "    }    \n",
    "\n",
    "    public void Click () {\n",
    "        clickCommand.Execute();\n",
    "    }\n",
    "}\n",
    "\n",
    "public class CustomerService {\n",
    "    public void AddCustomer () {\n",
    "        Console.WriteLine(\"Add new customer\");\n",
    "    }\n",
    "    \n",
    "    public void DeleteLastCustomer () {\n",
    "        Console.WriteLine(\"Last customer deleted!\");\n",
    "    }\n",
    "}\n",
    "\n",
    "public class AddCustomerCommand : ICommand {\n",
    "    private CustomerService customerService;\n",
    "    \n",
    "    public AddCustomerCommand (CustomerService customerService) {\n",
    "        this.customerService = customerService;\n",
    "    }\n",
    "    \n",
    "    public void Execute () {\n",
    "        customerService.AddCustomer();\n",
    "    }\n",
    "}\n",
    "\n",
    "public class DeleteLastCustomerCommand : ICommand {\n",
    "    private CustomerService customerService;\n",
    "    \n",
    "    public DeleteLastCustomerCommand (CustomerService customerService) {\n",
    "        this.customerService = customerService;\n",
    "    }\n",
    "    \n",
    "    public void Execute () {\n",
    "        customerService.DeleteLastCustomer();\n",
    "    }\n",
    "}"
   ]
  },
  {
   "cell_type": "code",
   "execution_count": 14,
   "metadata": {},
   "outputs": [
    {
     "name": "stdout",
     "output_type": "stream",
     "text": [
      "Add new customer\n",
      "Last customer deleted!\n"
     ]
    }
   ],
   "source": [
    "var customerService = new CustomerService ();\n",
    "\n",
    "var addNewCustomerButton = new Button (\n",
    "    new AddCustomerCommand (customerService)\n",
    ");\n",
    "addNewCustomerButton.Click();\n",
    "\n",
    "var deleteLastCustomerCommand = new Button (\n",
    "    new DeleteLastCustomerCommand (customerService)\n",
    ");\n",
    "deleteLastCustomerCommand.Click();"
   ]
  },
  {
   "cell_type": "markdown",
   "metadata": {},
   "source": [
    "### Composite Command"
   ]
  },
  {
   "cell_type": "code",
   "execution_count": 18,
   "metadata": {},
   "outputs": [],
   "source": [
    "public class CompositeCommand : ICommand {\n",
    "    private List<ICommand> commands;\n",
    "    \n",
    "    public CompositeCommand () {\n",
    "        commands = new List<ICommand>();\n",
    "    }\n",
    "    \n",
    "    public void Add (ICommand command) {\n",
    "        commands.Add(command);\n",
    "    }\n",
    "    \n",
    "    public void Execute () {\n",
    "        foreach (ICommand command in commands)\n",
    "            command.Execute();\n",
    "    }\n",
    "}\n",
    "\n",
    "public class SaveCommand : ICommand {\n",
    "    public void Execute () {\n",
    "        Console.WriteLine(\"Save\");\n",
    "    }\n",
    "}\n",
    "\n",
    "public class ResizeCommand : ICommand {\n",
    "    public void Execute () {\n",
    "        Console.WriteLine(\"Resize\");\n",
    "    }\n",
    "}\n",
    "\n",
    "public class MakeBlackWhiteCommand : ICommand {\n",
    "    public void Execute () {\n",
    "        Console.WriteLine(\"Make Black/White\");\n",
    "    }\n",
    "}"
   ]
  },
  {
   "cell_type": "code",
   "execution_count": 19,
   "metadata": {},
   "outputs": [
    {
     "name": "stdout",
     "output_type": "stream",
     "text": [
      "Resize\n",
      "Make Black/White\n",
      "Save\n"
     ]
    }
   ],
   "source": [
    "var commands = new CompositeCommand ();\n",
    "commands.Add(new ResizeCommand());\n",
    "commands.Add(new MakeBlackWhiteCommand());\n",
    "commands.Add(new SaveCommand());\n",
    "commands.Execute();"
   ]
  },
  {
   "cell_type": "markdown",
   "metadata": {},
   "source": [
    "### Undo Mechanism"
   ]
  },
  {
   "cell_type": "code",
   "execution_count": 30,
   "metadata": {},
   "outputs": [],
   "source": [
    "public interface IUndoableCommand {\n",
    "    void Unexecute();\n",
    "}\n",
    "\n",
    "public class HTMLDocument {\n",
    "    public string Content { get; set; }\n",
    "    \n",
    "    public void MakeBold () {\n",
    "        Content = \"<b>\" + Content + \"</b>\";\n",
    "    }\n",
    "}\n",
    "\n",
    "public class History { \n",
    "    private Queue<IUndoableCommand> undoableCommands;\n",
    "\n",
    "    public int Size { get {return undoableCommands.Count; } }\n",
    "    \n",
    "    public History () {\n",
    "        undoableCommands = new Queue<IUndoableCommand>();\n",
    "    }\n",
    "    \n",
    "    public void Push(IUndoableCommand command) {\n",
    "        undoableCommands.Enqueue(command);\n",
    "    }\n",
    "    \n",
    "    public IUndoableCommand Pop() {\n",
    "        return undoableCommands.Dequeue();\n",
    "    }\n",
    "}\n",
    "\n",
    "public class BoldCommand : ICommand, IUndoableCommand {\n",
    "    private string previousContent;\n",
    "    private HTMLDocument htmlDocument;\n",
    "    private History history;\n",
    "    \n",
    "    public BoldCommand(HTMLDocument htmlDocument, History history) {\n",
    "        this.htmlDocument = htmlDocument;\n",
    "        this.history = history;            \n",
    "    }\n",
    "    \n",
    "    public void Execute () {\n",
    "        previousContent = htmlDocument.Content;\n",
    "        htmlDocument.MakeBold();\n",
    "        history.Push(this);        \n",
    "    }\n",
    "    \n",
    "    public void Unexecute () {\n",
    "        htmlDocument.Content = previousContent;\n",
    "    }\n",
    "}"
   ]
  },
  {
   "cell_type": "code",
   "execution_count": 31,
   "metadata": {},
   "outputs": [
    {
     "name": "stdout",
     "output_type": "stream",
     "text": [
      "Hi There!\n",
      "<b>Hi There!</b>\n",
      "Hi There!\n"
     ]
    }
   ],
   "source": [
    "var history = new History();\n",
    "var document = new HTMLDocument();\n",
    "document.Content = \"Hi There!\";\n",
    "Console.WriteLine(document.Content);\n",
    "\n",
    "var boldCommand = new BoldCommand(document, history);\n",
    "boldCommand.Execute();\n",
    "Console.WriteLine(document.Content);\n",
    "\n",
    "boldCommand.Unexecute();\n",
    "Console.WriteLine(document.Content);"
   ]
  },
  {
   "cell_type": "code",
   "execution_count": 32,
   "metadata": {},
   "outputs": [],
   "source": [
    "public class UndoCommand : ICommand {\n",
    "    private History history;\n",
    "    \n",
    "    public UndoCommand (History history) {\n",
    "        this.history = history;\n",
    "    }\n",
    "    \n",
    "    public void Execute () {\n",
    "        if (history.Size > 0)\n",
    "            history.Pop().Unexecute();\n",
    "    }\n",
    "}"
   ]
  },
  {
   "cell_type": "code",
   "execution_count": 33,
   "metadata": {},
   "outputs": [
    {
     "name": "stdout",
     "output_type": "stream",
     "text": [
      "Hi There!\n",
      "<b>Hi There!</b>\n",
      "Hi There!\n"
     ]
    }
   ],
   "source": [
    "var history = new History();\n",
    "var document = new HTMLDocument();\n",
    "document.Content = \"Hi There!\";\n",
    "Console.WriteLine(document.Content);\n",
    "\n",
    "var boldCommand = new BoldCommand(document, history);\n",
    "boldCommand.Execute();\n",
    "Console.WriteLine(document.Content);\n",
    "\n",
    "var undoCommand = new UndoCommand(history);\n",
    "undoCommand.Execute();\n",
    "Console.WriteLine(document.Content);"
   ]
  },
  {
   "cell_type": "code",
   "execution_count": null,
   "metadata": {},
   "outputs": [],
   "source": []
  }
 ],
 "metadata": {
  "kernelspec": {
   "display_name": ".NET (C#)",
   "language": "C#",
   "name": ".net-csharp"
  },
  "language_info": {
   "file_extension": ".cs",
   "mimetype": "text/x-csharp",
   "name": "C#",
   "pygments_lexer": "csharp",
   "version": "8.0"
  }
 },
 "nbformat": 4,
 "nbformat_minor": 4
}
